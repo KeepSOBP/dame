{
  "nbformat": 4,
  "nbformat_minor": 0,
  "metadata": {
    "colab": {
      "name": "dame_korean.ipynb",
      "provenance": [],
      "collapsed_sections": [],
      "include_colab_link": true
    },
    "kernelspec": {
      "name": "python3",
      "display_name": "Python 3"
    },
    "accelerator": "GPU"
  },
  "cells": [
    {
      "cell_type": "markdown",
      "metadata": {
        "id": "view-in-github",
        "colab_type": "text"
      },
      "source": [
        "<a href=\"https://colab.research.google.com/github/KeepSOBP/dame/blob/master/dame_korean.ipynb\" target=\"_parent\"><img src=\"https://colab.research.google.com/assets/colab-badge.svg\" alt=\"Open In Colab\"/></a>"
      ]
    },
    {
      "cell_type": "markdown",
      "metadata": {
        "id": "cdO_RxQZLahB"
      },
      "source": [
        "# 원클릭 다메다네 메이커\n",
        " \n",
        "원본 20200901 버전\n",
        "마지막 수정 : 20201013\n",
        " \n",
        "코드 수정: [KeepSOBP](https://github.com/KeepSOBP/dame)\n",
        " \n",
        "원본 : [AliaksandrSiarohin](https://github.com/AliaksandrSiarohin/first-order-model)\n",
        " \n",
        "# 무조건 GPU 런타임이여만 가능한 코드입니다.\n",
        "`현재 Colab의 사용량 제한으로 인해 GPU에 연결할 수 없습니다.`\n",
        " \n",
        "라면서 gpu 런타임에 연결할 수 없으시면\n",
        " \n",
        "구글 부계를 이용하시거나, 나중에 다시 시도해보시길 바랍니다."
      ]
    },
    {
      "cell_type": "code",
      "metadata": {
        "id": "Oxi6-riLOgnm",
        "cellView": "form"
      },
      "source": [
        "#@markdown ### <- 플레이 버튼 한번으로 간단하게 다메다네를 만들어 보세요!\n",
        " \n",
        "#@markdown ```cuda runtime error (100) : no CUDA-capable device is detected at /pytorch/aten/src/THC/THCGeneral.cpp:47```\n",
        " \n",
        "#@markdown 에러가 뜨신다면, 해당 런타임이 gpu 런타임이 아니기 때문입니다.\n",
        " \n",
        "#@markdown 구글 부계로 다시시도 해보세요.\n",
        " \n",
        "#@markdown 작업이 마치면 편집기를 이용하여 영상 배속을 3배로 하시고, [음악](https://github.com/KeepSOBP/dame/releases/download/damesource/bakamitai_template.mp3)을 넣으시면 됩니다.\n",
        " \n",
        "print(\"이미지를 올려주세요, png jpg 지원!\")\n",
        "from google.colab import files\n",
        "from IPython.display import clear_output\n",
        "uploaded = files.upload()\n",
        "for fn in uploaded.keys():\n",
        "  uploadimage = fn\n",
        "  clear_output(wait=True)\n",
        " \n",
        "print(\"이전 작업 초기화 작업 & 설치중\")\n",
        "import os\n",
        "import time\n",
        "if not os.path.isfile(\"/content/damesource/04.mp4\"):\n",
        "  !git clone https://github.com/AliaksandrSiarohin/first-order-model\n",
        "  !wget https://github.com/KeepSOBP/dame/releases/download/damesource/damesource.zip\n",
        "  !unzip -o damesource.zip -d /content/damesource\n",
        "  !rm -rf damesource.zip\n",
        "  clear_output(wait=True)\n",
        "else:\n",
        "  clear_output(wait=True)\n",
        " \n",
        "# make damedane\n",
        "import sys\n",
        "sys.path.insert(1, '/content/first-order-model/')\n",
        "import imageio\n",
        "import numpy as np\n",
        "import matplotlib.pyplot as plt\n",
        "import matplotlib.animation as animation\n",
        "from skimage.transform import resize\n",
        "import warnings\n",
        "from demo import load_checkpoints, make_animation\n",
        "from skimage import img_as_ubyte\n",
        " \n",
        "print(\"딥페이크 작업중\")\n",
        "warnings.filterwarnings(\"ignore\")\n",
        " \n",
        "source_image = imageio.imread(uploadimage)\n",
        "driving_video = imageio.mimread('/content/damesource/04.mp4')\n",
        " \n",
        "source_image = resize(source_image, (256, 256))[..., :3]\n",
        "driving_video = [resize(frame, (256, 256))[..., :3] for frame in driving_video]\n",
        " \n",
        "def display(source, driving, generated=None):\n",
        "    fig = plt.figure(figsize=(8 + 4 * (generated is not None), 6))\n",
        " \n",
        "    ims = []\n",
        "    for i in range(len(driving)):\n",
        "        cols = [source]\n",
        "        cols.append(driving[i])\n",
        "        if generated is not None:\n",
        "            cols.append(generated[i])\n",
        "        im = plt.imshow(np.concatenate(cols, axis=1), animated=True)\n",
        "        plt.axis('off')\n",
        "        ims.append([im])\n",
        " \n",
        "    ani = animation.ArtistAnimation(fig, ims, interval=50, repeat_delay=1000)\n",
        "    plt.close()\n",
        "    return ani\n",
        " \n",
        "generator, kp_detector = load_checkpoints(config_path='/content/first-order-model/config/vox-256.yaml', \n",
        "                            checkpoint_path='/content/damesource/vox-cpk.pth.tar')\n",
        " \n",
        "clear_output(wait=True)\n",
        " \n",
        "# make video\n",
        "print(\"영상 제작, 다운로드 진행중\")\n",
        "predictions = make_animation(source_image, driving_video, generator, kp_detector, relative=True)\n",
        " \n",
        "imageio.mimsave('complete.mp4', [img_as_ubyte(frame) for frame in predictions])\n",
        "files.download('complete.mp4')\n",
        "os.remove(uploadimage)"
      ],
      "execution_count": null,
      "outputs": []
    },
    {
      "cell_type": "markdown",
      "metadata": {
        "id": "Uf7tSrdNlSxe"
      },
      "source": [
        "### 또 만들고 싶으신가요?\n",
        " \n",
        "처음부터 다시 하시면 됩니다!\n",
        " \n",
        "--------------\n",
        " \n",
        " \n",
        "### 코드가 궁금하신가요?\n",
        "![](https://cdn.discordapp.com/attachments/757474622550704208/757505210653474816/unknown.png)\n",
        " \n",
        "양식 -> 코드 표시를 하시면 보여줍니다.\n",
        " \n",
        "**여기에는 바이러스가 없습니다**\n",
        " \n",
        "이 colab 링크를 이용하여 유튜브에 *다메다네 튜토리얼* 영상을 만드는 행동은 **금지되어 있습니다.**\n",
        " \n",
        "튜토리얼은 [제 채널에서 보시는걸로!](https://www.youtube.com/channel/UCl7UlXHLVg2hs7VbrZs0y3Q)"
      ]
    }
  ]
}