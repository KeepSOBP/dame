{
  "nbformat": 4,
  "nbformat_minor": 0,
  "metadata": {
    "colab": {
      "name": "dame_korean.ipynb",
      "provenance": [],
      "collapsed_sections": [],
      "toc_visible": true,
      "include_colab_link": true
    },
    "kernelspec": {
      "name": "python3",
      "display_name": "Python 3"
    },
    "accelerator": "GPU"
  },
  "cells": [
    {
      "cell_type": "markdown",
      "metadata": {
        "id": "view-in-github",
        "colab_type": "text"
      },
      "source": [
        "<a href=\"https://colab.research.google.com/github/KeepSOBP/dame/blob/master/dame_korean.ipynb\" target=\"_parent\"><img src=\"https://colab.research.google.com/assets/colab-badge.svg\" alt=\"Open In Colab\"/></a>"
      ]
    },
    {
      "cell_type": "markdown",
      "metadata": {
        "id": "cdO_RxQZLahB",
        "colab_type": "text"
      },
      "source": [
        "# 다메다네 만들기\n",
        "\n",
        "원본 20200901 버전\n",
        "마지막 수정 : 20200921\n",
        "\n",
        "코드 수정: [KeepSOBP](https://github.com/KeepSOBP/dame)\n",
        "\n",
        "원본 : [AliaksandrSiarohin](https://github.com/AliaksandrSiarohin/first-order-model)\n",
        "\n",
        "# 무조건 GPU여만 가능한 코드입니다.\n",
        "`현재 Colab의 사용량 제한으로 인해 GPU에 연결할 수 없습니다.`\n",
        "\n",
        "라면서 gpu 런타임에 연결할 수 없으시면\n",
        "\n",
        "구글 부계를 이용하시거나, 나중에 다시 시도해보시길 바랍니다.\n",
        "\n",
        "\n",
        "## 영상 만들었는데 또 만들고 싶어요!\n",
        "쭉 내려보시면 자세하게 적어두었습니다."
      ]
    },
    {
      "cell_type": "code",
      "metadata": {
        "id": "UCMFMJV7K-ag",
        "colab_type": "code",
        "cellView": "form",
        "colab": {}
      },
      "source": [
        "#@markdown ### <- unzip 설치, first-order-model 클론, 다메소스 다운 \n",
        "\n",
        "#@markdown ![](https://bread.shx.gg/feO9rF.png)\n",
        "\n",
        "#@markdown 혹시 이런 로그가 뜨신다면, 검은색 테두리칸에 A를 입력해주세요.\n",
        "\n",
        "!apt install unzip\n",
        "!git clone https://github.com/AliaksandrSiarohin/first-order-model\n",
        "!wget https://github.com/KeepSOBP/dame/releases/download/damesource/damesource.zip\n",
        "!unzip damesource.zip -d /content/damesource\n",
        "print(\"완료! 다음 버튼을 눌러주세요.\")"
      ],
      "execution_count": null,
      "outputs": []
    },
    {
      "cell_type": "markdown",
      "metadata": {
        "id": "R3JC_A3OgiqQ",
        "colab_type": "text"
      },
      "source": [
        "다음 버튼은 **완료가 돼면 로딩중에서 플레이 버튼으로 바뀌니** 그점 주의 해주세요.\n",
        "\n",
        "![](https://cdn.statically.io/img/bread.shx.gg/K2KVOT.gif?w=300&f=auto)\n",
        "\n",
        "움짤처럼 돼야 합니다.\n",
        "\n",
        "```bash\n",
        "[Errno 2] No such file or directory: 'first-order-model'\n",
        "/content/first-order-model/first-order-model\n",
        "```\n",
        "에러가 뜨신다면, 이미 폴더로 이동이 되었으니 사진 업로드 단계로 가주세요.\n",
        "\n",
        "### ↓ first-order-model 폴더로 이동"
      ]
    },
    {
      "cell_type": "code",
      "metadata": {
        "id": "Y4_8i172Qdw9",
        "colab_type": "code",
        "cellView": "both",
        "colab": {}
      },
      "source": [
        "cd first-order-model"
      ],
      "execution_count": null,
      "outputs": []
    },
    {
      "cell_type": "code",
      "metadata": {
        "id": "3PZbacHKF--g",
        "colab_type": "code",
        "cellView": "form",
        "colab": {}
      },
      "source": [
        "#@markdown ### <- 반드시 사진 이름이 **02.png**으로 되어 있고, 사진 크기는 256x256 사이즈가 되어야 합니다.\n",
        "#@markdown 확인 하셨으면 버튼을 클릭 해주세요.\n",
        "\n",
        "#@markdown 업로드 될때 02.png.png시면, 그냥 사진 이름을 02로 해보시고 업로드 해보세요.\n",
        "\n",
        "#@markdown 02.jpg신가요? https://jpg2png.com/ko/ 여기에서 변환해보세요.\n",
        "\n",
        "#@markdown ----------\n",
        "\n",
        "#@markdown ![](https://cdn.statically.io/img/bread.shx.gg/armR9r.gif?w=300&f=auto)\n",
        "\n",
        "#@markdown 분명히 이전 버튼을 눌렀는데도, 02.png 제대로 맞는데 안돼신다면, 왼쪽 사이드바에 있는 폴더 아이콘을 클릭해서,\n",
        "\n",
        "#@markdown first-order-model 폴더에 넣어주시면 됩니다. **절대로 다른 폴더에 넣어지면 안됩니다.**\n",
        "\n",
        "from google.colab import files\n",
        "\n",
        "uploaded = files.upload()\n",
        "\n",
        "for fn in uploaded.keys():\n",
        "  print('\\n잠깐! 다음 버튼을 누르기 전에, 현재 위에 뜨고있는 파일 명이 제대로 된 02.png이 맞는지 확인해주세요.\\n만약 다르다면 위에 설명되어 있는대로 해보시길 바랍니다.'.format(\n",
        "      name=fn, length=len(uploaded[fn])))"
      ],
      "execution_count": null,
      "outputs": []
    },
    {
      "cell_type": "code",
      "metadata": {
        "id": "Oxi6-riLOgnm",
        "colab_type": "code",
        "cellView": "form",
        "colab": {}
      },
      "source": [
        "#@markdown ### <- 딥페이크 제작이므로 시간이 많이 걸립니다.\n",
        "\n",
        "#@markdown ```cuda runtime error (100) : no CUDA-capable device is detected at /pytorch/aten/src/THC/THCGeneral.cpp:47```\n",
        "\n",
        "#@markdown 에러가 뜨신다면, 해당 런타임이 gpu 런타임이 아니기 때문입니다 :( \n",
        "\n",
        "#@markdown ```source_image = imageio.imread('/content/first-order-model/02.png')```\n",
        "\n",
        "#@markdown 에러가 뜨신다면, 2번 버튼을 안누르셨거나 파일 이름이 02.png가 아닐때 뜨는것이니\n",
        "\n",
        "#@markdown 다시 한번 시도해보세요.\n",
        "import imageio\n",
        "import numpy as np\n",
        "import matplotlib.pyplot as plt\n",
        "import matplotlib.animation as animation\n",
        "from skimage.transform import resize\n",
        "import warnings\n",
        "from demo import load_checkpoints\n",
        "print(\"열심히 작업하는중...\")\n",
        "warnings.filterwarnings(\"ignore\")\n",
        "\n",
        "source_image = imageio.imread('/content/first-order-model/02.png')\n",
        "driving_video = imageio.mimread('/content/damesource/04.mp4')\n",
        "\n",
        "source_image = resize(source_image, (256, 256))[..., :3]\n",
        "driving_video = [resize(frame, (256, 256))[..., :3] for frame in driving_video]\n",
        "\n",
        "def display(source, driving, generated=None):\n",
        "    fig = plt.figure(figsize=(8 + 4 * (generated is not None), 6))\n",
        "\n",
        "    ims = []\n",
        "    for i in range(len(driving)):\n",
        "        cols = [source]\n",
        "        cols.append(driving[i])\n",
        "        if generated is not None:\n",
        "            cols.append(generated[i])\n",
        "        im = plt.imshow(np.concatenate(cols, axis=1), animated=True)\n",
        "        plt.axis('off')\n",
        "        ims.append([im])\n",
        "\n",
        "    ani = animation.ArtistAnimation(fig, ims, interval=50, repeat_delay=1000)\n",
        "    plt.close()\n",
        "    return ani\n",
        "\n",
        "generator, kp_detector = load_checkpoints(config_path='config/vox-256.yaml', \n",
        "                            checkpoint_path='/content/damesource/vox-cpk.pth.tar')\n",
        "print(\"완료! 다음 버튼을 눌러주세요.\")"
      ],
      "execution_count": null,
      "outputs": []
    },
    {
      "cell_type": "code",
      "metadata": {
        "id": "SB12II11kF4c",
        "colab_type": "code",
        "cellView": "form",
        "colab": {}
      },
      "source": [
        "#@markdown ### <- 영상 생성, 다운로드\n",
        "#@markdown ### 여기까지 모두 완료 하셨으면 자동으로 영상이 다운 될겁니다.\n",
        "#@markdown ### 영상을 3배로 하시고 [노래](https://ftp.nerina.wtf/utils/bakamitai_template.mp3)까지 넣으시면 모두 완료!\n",
        "#@markdown -----\n",
        "#@markdown ### 혹시 영상이 다운로드가 안돼나요?\n",
        "#@markdown ![](https://cdn.statically.io/img/bread.shx.gg/8sUlFK.png?w=300&f=auto)\n",
        "\n",
        "#@markdown 컴퓨터 기준으로 왼쪽 상단에 있는 사이드바에서 폴더 아이콘을 눌러주세요.\n",
        "\n",
        "#@markdown complete.mp4가 보이실텐데, 그 파일을 **더블 클릭**하시면 다운이 진행됩니다.\n",
        "\n",
        "#@markdown ![](https://cdn.discordapp.com/attachments/757474622550704208/757493818735198258/unknown.png)\n",
        "\n",
        "#@markdown 혹시 이 창이 뜨시면 허용해주세요\n",
        "from demo import make_animation\n",
        "from skimage import img_as_ubyte\n",
        "\n",
        "predictions = make_animation(source_image, driving_video, generator, kp_detector, relative=True)\n",
        "\n",
        "#save resulting video\n",
        "imageio.mimsave('../complete.mp4', [img_as_ubyte(frame) for frame in predictions])\n",
        "files.download('../complete.mp4')\n",
        "print(\"완료! 다운로드 폴더를 확인해주세요.\")"
      ],
      "execution_count": null,
      "outputs": []
    },
    {
      "cell_type": "markdown",
      "metadata": {
        "id": "Uf7tSrdNlSxe",
        "colab_type": "text"
      },
      "source": [
        "### 또 만들고 싶으신가요?\n",
        "\n",
        "![](https://cdn.statically.io/img/bread.shx.gg/8sUlFK.png?w=300&f=auto)\n",
        "\n",
        "컴퓨터 기준으로 왼쪽 상단에 있는 사이드바에서 폴더 아이콘을 눌러주세요.\n",
        "\n",
        "![](https://cdn.statically.io/img/bread.shx.gg/o5tIkq.png?w=300&f=auto)\n",
        "\n",
        "그다음 first-order-model 폴더를 누르신 뒤, 02.png를 사진과 같이 우측 점 세개를 누르시고 *파일 삭제*를 해주세요.\n",
        "\n",
        "이제 사진 업로드 단계인 **3**번 버튼 부터 다시 하시면 됩니다!\n",
        "\n",
        "\n",
        "--------------\n",
        "\n",
        "### 완벽히 처음부터 하고 싶어요!\n",
        "![](https://cdn.statically.io/img/bread.shx.gg/SfbagI.png?w=400&f=auto)\n",
        "\n",
        "상단에 있는 런타임을 누르시고, 런타임 초기화를 눌러주세요.\n",
        "\n",
        "\n",
        "--------------\n",
        "\n",
        "\n",
        "### 코드가 궁금하신가요?\n",
        "![](https://cdn.discordapp.com/attachments/757474622550704208/757505210653474816/unknown.png)\n",
        "\n",
        "양식 -> 코드 표시를 하시면 보여줍니다.\n",
        "\n",
        "**여기에는 바이러스가 없습니다**\n",
        "\n",
        "이 colab 링크를 이용하여 유튜브에 *다메다네 튜토리얼* 영상을 만드는 행동은 **금지되어 있습니다.**\n",
        "\n",
        "튜토리얼은 [제 채널에서 보시는걸로!](https://www.youtube.com/channel/UCl7UlXHLVg2hs7VbrZs0y3Q)"
      ]
    }
  ]
}